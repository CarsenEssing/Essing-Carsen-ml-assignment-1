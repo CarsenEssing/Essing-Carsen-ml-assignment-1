{
 "cells": [
  {
   "cell_type": "code",
   "execution_count": 12,
   "id": "17315cc2-a4ac-471b-865e-f2ece968dc83",
   "metadata": {},
   "outputs": [
    {
     "name": "stdout",
     "output_type": "stream",
     "text": [
      "   Unnamed: 0             hhid intmonth stfips     weight  earnwke  uhours  \\\n",
      "0           3    2600310997690  January     AL  3151.6801  1692.00      40   \n",
      "1           5   75680310997590  January     AL  3457.1138   450.00      40   \n",
      "2           6   75680310997590  January     AL  3936.9110  1090.00      60   \n",
      "3          10  179140131100930  January     AL  3288.3640   769.23      40   \n",
      "4          11  179140131100930  January     AL  3422.8500   826.92      40   \n",
      "\n",
      "   grade92  race  ethnic  ...  ownchild  chldpres            prcitshp  state  \\\n",
      "0       43     1     NaN  ...         0         0  Native, Born In US     63   \n",
      "1       41     2     NaN  ...         2         6  Native, Born In US     63   \n",
      "2       41     2     NaN  ...         2         6  Native, Born In US     63   \n",
      "3       40     1     NaN  ...         2         4  Native, Born In US     63   \n",
      "4       43     1     NaN  ...         2         4  Native, Born In US     63   \n",
      "\n",
      "                                               ind02 occ2012  \\\n",
      "0                         Employment services (5613)     630   \n",
      "1                     Outpatient care centers (6214)    5400   \n",
      "2  Motor vehicles and motor vehicle equipment man...    8140   \n",
      "3  **Publishing, except newspapers and software (...    8255   \n",
      "4  Banking and related activities (521, 52211,52219)    5940   \n",
      "\n",
      "                 class unionmme  unioncov            lfsr94  \n",
      "0  Private, For Profit       No        No  Employed-At Work  \n",
      "1  Private, For Profit       No        No   Employed-Absent  \n",
      "2  Private, For Profit       No        No  Employed-At Work  \n",
      "3  Private, For Profit      Yes       NaN  Employed-At Work  \n",
      "4  Private, For Profit       No        No  Employed-At Work  \n",
      "\n",
      "[5 rows x 23 columns]\n",
      "<class 'pandas.core.frame.DataFrame'>\n",
      "RangeIndex: 149316 entries, 0 to 149315\n",
      "Data columns (total 23 columns):\n",
      " #   Column      Non-Null Count   Dtype  \n",
      "---  ------      --------------   -----  \n",
      " 0   Unnamed: 0  149316 non-null  int64  \n",
      " 1   hhid        149316 non-null  int64  \n",
      " 2   intmonth    149316 non-null  object \n",
      " 3   stfips      149316 non-null  object \n",
      " 4   weight      149316 non-null  float64\n",
      " 5   earnwke     149316 non-null  float64\n",
      " 6   uhours      149316 non-null  int64  \n",
      " 7   grade92     149316 non-null  int64  \n",
      " 8   race        149316 non-null  int64  \n",
      " 9   ethnic      20071 non-null   float64\n",
      " 10  age         149316 non-null  int64  \n",
      " 11  sex         149316 non-null  int64  \n",
      " 12  marital     149316 non-null  int64  \n",
      " 13  ownchild    149316 non-null  int64  \n",
      " 14  chldpres    149316 non-null  int64  \n",
      " 15  prcitshp    149316 non-null  object \n",
      " 16  state       149316 non-null  object \n",
      " 17  ind02       149316 non-null  object \n",
      " 18  occ2012     149316 non-null  int64  \n",
      " 19  class       149316 non-null  object \n",
      " 20  unionmme    149316 non-null  object \n",
      " 21  unioncov    132220 non-null  object \n",
      " 22  lfsr94      149316 non-null  object \n",
      "dtypes: float64(3), int64(11), object(9)\n",
      "memory usage: 26.2+ MB\n",
      "None\n"
     ]
    }
   ],
   "source": [
    "import pandas as pd\n",
    "\n",
    "#import data\n",
    "\n",
    "url = 'https://raw.githubusercontent.com/CarsenEssing/Essing-Carsen-ml-assignment-1/refs/heads/main/Data/morg-2014-emp.csv?token=GHSAT0AAAAAAC7FDH3SPP3DVLG6HKXAYEBKZ6APWPQ'\n",
    "\n",
    "df = pd.read_csv(url, low_memory=False)\n",
    "\n",
    "print(df.head())\n",
    "print(df.info())"
   ]
  },
  {
   "cell_type": "code",
   "execution_count": 14,
   "id": "f3d399ce-ac46-44fd-b405-bb3b66d53039",
   "metadata": {},
   "outputs": [
    {
     "name": "stdout",
     "output_type": "stream",
     "text": [
      "Number of rows for occupation code 1010 : 516\n",
      "      Unnamed: 0             hhid intmonth stfips     weight  earnwke  uhours  \\\n",
      "539         1228    3905360695986  January     CA  3296.9904  1596.15      40   \n",
      "637         1431   93943700055666  January     CA  3820.0149  2500.00      40   \n",
      "1378        3096  833092919600838  January     CA  3643.5517   120.00       6   \n",
      "1570        3551   56560780790091  January     CO  1619.5856  2692.30      50   \n",
      "2031        4452  709019963039490  January     CT  1456.0355  1923.07      60   \n",
      "\n",
      "      grade92  race  ethnic  ...  ownchild  chldpres            prcitshp  \\\n",
      "539        43     2     NaN  ...         0         0  Native, Born In US   \n",
      "637        43     2     NaN  ...         0         0  Native, Born In US   \n",
      "1378       44     1     1.0  ...         0         0  Native, Born In US   \n",
      "1570       43     1     NaN  ...         0         0  Native, Born In US   \n",
      "2031       44     1     NaN  ...         2         8  Native, Born In US   \n",
      "\n",
      "      state                                              ind02 occ2012  \\\n",
      "539      93  Computer systems design and related services (...    1010   \n",
      "637      93  Computer systems design and related services (...    1010   \n",
      "1378     93  Scientific research and development services (...    1010   \n",
      "1570     84  ** Professional and commercial equipment and s...    1010   \n",
      "2031     CT    Insurance carriers and related activities (524)    1010   \n",
      "\n",
      "                    class unionmme  unioncov            lfsr94  \n",
      "539   Private, For Profit       No        No  Employed-At Work  \n",
      "637   Private, For Profit       No        No  Employed-At Work  \n",
      "1378  Private, For Profit       No        No  Employed-At Work  \n",
      "1570  Private, For Profit       No        No  Employed-At Work  \n",
      "2031  Private, For Profit       No        No  Employed-At Work  \n",
      "\n",
      "[5 rows x 23 columns]\n"
     ]
    }
   ],
   "source": [
    "#filter the dataset by computer programmers\n",
    "occupation_code = 1010\n",
    "df_filtered = df[df['occ2012'] == occupation_code]\n",
    "\n",
    "\n",
    "#print(\"Number of rows\", occupation_code, \":\", len(df_filtered))\n",
    "#print(df_filtered.head())"
   ]
  },
  {
   "cell_type": "code",
   "execution_count": 16,
   "id": "ed354b37-ea3c-4f32-afe5-1a084e355f75",
   "metadata": {},
   "outputs": [
    {
     "name": "stdout",
     "output_type": "stream",
     "text": [
      "          Unnamed: 0          hhid       weight      earnwke      uhours  \\\n",
      "count     516.000000  5.160000e+02   516.000000   516.000000  516.000000   \n",
      "mean   160722.468992  4.572279e+14  2551.036335  1411.085465   40.831395   \n",
      "std     90930.452229  3.233499e+14  1248.722391   628.475023    6.504715   \n",
      "min      1228.000000  5.643330e+10   193.715700     2.000000    5.000000   \n",
      "25%     82180.750000  1.576628e+14  1535.997225   941.250000   40.000000   \n",
      "50%    158565.500000  4.244584e+14  2822.593000  1346.150000   40.000000   \n",
      "75%    238489.250000  7.490751e+14  3412.941950  1846.150000   40.000000   \n",
      "max    316857.000000  9.997203e+14  6535.735200  2884.610000   80.000000   \n",
      "\n",
      "          grade92        race     ethnic         age         sex     marital  \\\n",
      "count  516.000000  516.000000  22.000000  516.000000  516.000000  516.000000   \n",
      "mean    42.441860    1.627907   3.318182   42.339147    1.207364    2.812016   \n",
      "std      1.506785    1.240543   2.749656   11.283948    0.405812    2.610942   \n",
      "min     37.000000    1.000000   1.000000   18.000000    1.000000    1.000000   \n",
      "25%     42.000000    1.000000   1.000000   33.000000    1.000000    1.000000   \n",
      "50%     43.000000    1.000000   2.000000   43.000000    1.000000    1.000000   \n",
      "75%     43.000000    1.000000   6.500000   51.000000    1.000000    5.000000   \n",
      "max     46.000000    8.000000   8.000000   64.000000    2.000000    7.000000   \n",
      "\n",
      "         ownchild    chldpres  occ2012  \n",
      "count  516.000000  516.000000    516.0  \n",
      "mean     0.726744    1.994186   1010.0  \n",
      "std      1.085179    3.214344      0.0  \n",
      "min      0.000000    0.000000   1010.0  \n",
      "25%      0.000000    0.000000   1010.0  \n",
      "50%      0.000000    0.000000   1010.0  \n",
      "75%      1.000000    3.000000   1010.0  \n",
      "max      7.000000   14.000000   1010.0  \n"
     ]
    }
   ],
   "source": [
    "#print(df_filtered.describe())"
   ]
  },
  {
   "cell_type": "markdown",
   "id": "a547e377-f246-425f-8368-c69a3c62ae4f",
   "metadata": {},
   "source": [
    "# Model 1: Earnings per hour and age\n",
    "### Predicts an individual's earnings per hour using only their age as a predictor.\n",
    "* Age is often associated with work experience, skill development, and career progression, all of which can influence earnings\n",
    "* Each additional year of age is linked to a specific change in earnings per hour (regression coefficient)"
   ]
  },
  {
   "cell_type": "code",
   "execution_count": 33,
   "id": "47fe550f-6c67-4dd7-ac38-5d5dbdfc612c",
   "metadata": {},
   "outputs": [
    {
     "name": "stdout",
     "output_type": "stream",
     "text": [
      "                            OLS Regression Results                            \n",
      "==============================================================================\n",
      "Dep. Variable:      earnings_per_hour   R-squared:                       0.073\n",
      "Model:                            OLS   Adj. R-squared:                  0.071\n",
      "Method:                 Least Squares   F-statistic:                     40.28\n",
      "Date:                Thu, 27 Feb 2025   Prob (F-statistic):           4.85e-10\n",
      "Time:                        16:43:04   Log-Likelihood:                -2100.4\n",
      "No. Observations:                 516   AIC:                             4205.\n",
      "Df Residuals:                     514   BIC:                             4213.\n",
      "Df Model:                           1                                         \n",
      "Covariance Type:            nonrobust                                         \n",
      "==============================================================================\n",
      "                 coef    std err          t      P>|t|      [0.025      0.975]\n",
      "------------------------------------------------------------------------------\n",
      "const         19.5200      2.430      8.032      0.000      14.746      24.294\n",
      "age            0.3520      0.055      6.346      0.000       0.243       0.461\n",
      "==============================================================================\n",
      "Omnibus:                       17.511   Durbin-Watson:                   2.075\n",
      "Prob(Omnibus):                  0.000   Jarque-Bera (JB):               18.147\n",
      "Skew:                           0.436   Prob(JB):                     0.000115\n",
      "Kurtosis:                       2.714   Cond. No.                         170.\n",
      "==============================================================================\n",
      "\n",
      "Notes:\n",
      "[1] Standard Errors assume that the covariance matrix of the errors is correctly specified.\n"
     ]
    }
   ],
   "source": [
    "import statsmodels.api as sm\n",
    "\n",
    "#calculate hourly earnings\n",
    "if 'earnings_per_hour' not in df.columns:\n",
    "    df['earnings_per_hour'] = df['earnwke'] / df['uhours']\n",
    "\n",
    "# Define age as the predictor\n",
    "X = df_filtered[['age']]\n",
    "y = df_filtered['earnings_per_hour']\n",
    "\n",
    "X = sm.add_constant(X)\n",
    "\n",
    "#fit\n",
    "model1 = sm.OLS(y, X).fit()\n",
    "\n",
    "print(model1.summary())\n"
   ]
  },
  {
   "cell_type": "markdown",
   "id": "3e325bdd-56cb-40b3-b4d6-457ed93b1d09",
   "metadata": {},
   "source": [
    "# Model 2: Earnings per hour and age, education level, and gender\n",
    "### explains more of the variation in hourly earnings than the baseline model that used age alone. Including these predictors acknowledges that factors beyond age, such as educational attainment and gender, can have an impact on wages.\n",
    "* Grade92: Represents the highest educational grade completed,key indicator of an individual's education level which can influence earnings\n",
    "* Sex: Captures differences in earnings that may be associated with gender"
   ]
  },
  {
   "cell_type": "code",
   "execution_count": 38,
   "id": "ed75d529-03df-4956-970b-5bd07b7ac46c",
   "metadata": {},
   "outputs": [
    {
     "name": "stdout",
     "output_type": "stream",
     "text": [
      "Option 1: Predictors = age, grade92, sex\n",
      "                            OLS Regression Results                            \n",
      "==============================================================================\n",
      "Dep. Variable:      earnings_per_hour   R-squared:                       0.140\n",
      "Model:                            OLS   Adj. R-squared:                  0.135\n",
      "Method:                 Least Squares   F-statistic:                     27.88\n",
      "Date:                Thu, 27 Feb 2025   Prob (F-statistic):           1.03e-16\n",
      "Time:                        17:04:54   Log-Likelihood:                -2080.8\n",
      "No. Observations:                 516   AIC:                             4170.\n",
      "Df Residuals:                     512   BIC:                             4187.\n",
      "Df Model:                           3                                         \n",
      "Covariance Type:            nonrobust                                         \n",
      "==============================================================================\n",
      "                 coef    std err          t      P>|t|      [0.025      0.975]\n",
      "------------------------------------------------------------------------------\n",
      "const        -62.8997     17.076     -3.684      0.000     -96.447     -29.353\n",
      "age            0.3529      0.054      6.540      0.000       0.247       0.459\n",
      "grade92        2.1020      0.402      5.228      0.000       1.312       2.892\n",
      "sex           -5.6561      1.497     -3.777      0.000      -8.598      -2.714\n",
      "==============================================================================\n",
      "Omnibus:                       19.893   Durbin-Watson:                   2.126\n",
      "Prob(Omnibus):                  0.000   Jarque-Bera (JB):               21.402\n",
      "Skew:                           0.488   Prob(JB):                     2.25e-05\n",
      "Kurtosis:                       2.791   Cond. No.                     1.71e+03\n",
      "==============================================================================\n",
      "\n",
      "Notes:\n",
      "[1] Standard Errors assume that the covariance matrix of the errors is correctly specified.\n",
      "[2] The condition number is large, 1.71e+03. This might indicate that there are\n",
      "strong multicollinearity or other numerical problems.\n"
     ]
    }
   ],
   "source": [
    "#OLS with more predictors\n",
    "X1 = df_filtered[['age', 'grade92', 'sex']]\n",
    "y = df_filtered['earnings_per_hour']\n",
    "\n",
    "X1 = sm.add_constant(X1)\n",
    "\n",
    "#fit\n",
    "model2_option1 = sm.OLS(y, X1).fit()\n",
    "\n",
    "print(model2_option1.summary())"
   ]
  },
  {
   "cell_type": "markdown",
   "id": "5bea4505-8772-4aeb-ae5d-e6d9dbdc7297",
   "metadata": {},
   "source": [
    "# Model 3: Interaction term between age and aducation\n",
    "## Adding an interaction term between age and education which captures the possibility that the effect of education on earnings per hour may change with age\n",
    "* Multiplying age and grade92: tests whether the effect of education on earnings changes as individuals get older. See if higher education has larger wage benefits for older workers compared to younger workers, or vice versa."
   ]
  },
  {
   "cell_type": "code",
   "execution_count": 47,
   "id": "2e61bf2e-e540-4a38-b1de-9e3493ae967b",
   "metadata": {},
   "outputs": [
    {
     "name": "stdout",
     "output_type": "stream",
     "text": [
      "                            OLS Regression Results                            \n",
      "==============================================================================\n",
      "Dep. Variable:      earnings_per_hour   R-squared:                       0.147\n",
      "Model:                            OLS   Adj. R-squared:                  0.141\n",
      "Method:                 Least Squares   F-statistic:                     22.09\n",
      "Date:                Fri, 28 Feb 2025   Prob (F-statistic):           7.75e-17\n",
      "Time:                        13:45:59   Log-Likelihood:                -2078.7\n",
      "No. Observations:                 516   AIC:                             4167.\n",
      "Df Residuals:                     511   BIC:                             4189.\n",
      "Df Model:                           4                                         \n",
      "Covariance Type:            nonrobust                                         \n",
      "===============================================================================\n",
      "                  coef    std err          t      P>|t|      [0.025      0.975]\n",
      "-------------------------------------------------------------------------------\n",
      "const        -177.9294     58.667     -3.033      0.003    -293.188     -62.671\n",
      "age             3.2069      1.394      2.300      0.022       0.468       5.946\n",
      "grade92         4.8341      1.392      3.472      0.001       2.099       7.570\n",
      "sex            -5.7436      1.493     -3.846      0.000      -8.678      -2.810\n",
      "age_grade92    -0.0677      0.033     -2.049      0.041      -0.133      -0.003\n",
      "==============================================================================\n",
      "Omnibus:                       19.665   Durbin-Watson:                   2.138\n",
      "Prob(Omnibus):                  0.000   Jarque-Bera (JB):               21.167\n",
      "Skew:                           0.486   Prob(JB):                     2.53e-05\n",
      "Kurtosis:                       2.800   Cond. No.                     1.82e+05\n",
      "==============================================================================\n",
      "\n",
      "Notes:\n",
      "[1] Standard Errors assume that the covariance matrix of the errors is correctly specified.\n",
      "[2] The condition number is large, 1.82e+05. This might indicate that there are\n",
      "strong multicollinearity or other numerical problems.\n"
     ]
    }
   ],
   "source": [
    "df_filtered = df_filtered.copy()\n",
    "df_filtered['age_grade92'] = df_filtered['age'] * df_filtered['grade92']\n",
    "\n",
    "#interaction term: age * grade92\n",
    "df_filtered['age_grade92'] = df_filtered['age'] * df_filtered['grade92']\n",
    "\n",
    "#define predictors: age, grade92, sex, and the interaction term\n",
    "X3_option1 = df_filtered[['age', 'grade92', 'sex', 'age_grade92']]\n",
    "y = df_filtered['earnings_per_hour']\n",
    "\n",
    "\n",
    "X3_option1 = sm.add_constant(X3_option1)\n",
    "\n",
    "#fit \n",
    "model3_option1 = sm.OLS(y, X3_option1).fit()\n",
    "\n",
    "\n",
    "print(model3_option1.summary())\n"
   ]
  },
  {
   "cell_type": "markdown",
   "id": "2cb5dc8b-180f-4412-88ca-7172c45f2c76",
   "metadata": {},
   "source": [
    "# Model 4: More interaction terms\n",
    "## includes predictors: age, education, gender, and marital status and 2 new interaction terms.\n",
    "\n",
    "* sex_grade92: Captures whether the effect of education on earnings per hour differs by gender. The returns to education might be higher for one gender compared to the other.\n",
    "* age_marital: Captures whether the effect of age on earnings per hour varies by marital status. Marital status might impact work-life balance or stability, which can interact with how age influences earnings.\n"
   ]
  },
  {
   "cell_type": "code",
   "execution_count": 45,
   "id": "0f8e436f-ef95-4856-b498-cc6f9567c24f",
   "metadata": {},
   "outputs": [
    {
     "name": "stdout",
     "output_type": "stream",
     "text": [
      "Model 4 Option 2: Model with interactions between sex and grade92, and between age and marital\n",
      "                            OLS Regression Results                            \n",
      "==============================================================================\n",
      "Dep. Variable:      earnings_per_hour   R-squared:                       0.167\n",
      "Model:                            OLS   Adj. R-squared:                  0.157\n",
      "Method:                 Least Squares   F-statistic:                     16.98\n",
      "Date:                Fri, 28 Feb 2025   Prob (F-statistic):           6.51e-18\n",
      "Time:                        13:35:08   Log-Likelihood:                -2072.8\n",
      "No. Observations:                 516   AIC:                             4160.\n",
      "Df Residuals:                     509   BIC:                             4189.\n",
      "Df Model:                           6                                         \n",
      "Covariance Type:            nonrobust                                         \n",
      "===============================================================================\n",
      "                  coef    std err          t      P>|t|      [0.025      0.975]\n",
      "-------------------------------------------------------------------------------\n",
      "const          -8.4708     52.752     -0.161      0.872    -112.110      95.168\n",
      "age             0.0822      0.092      0.898      0.370      -0.098       0.262\n",
      "grade92         1.1426      1.238      0.923      0.356      -1.289       3.574\n",
      "sex           -29.8057     40.742     -0.732      0.465    -109.849      50.237\n",
      "marital        -3.1054      0.850     -3.652      0.000      -4.776      -1.435\n",
      "sex_grade92     0.5619      0.957      0.587      0.557      -1.319       2.442\n",
      "age_marital     0.0636      0.021      3.047      0.002       0.023       0.105\n",
      "==============================================================================\n",
      "Omnibus:                       17.690   Durbin-Watson:                   2.101\n",
      "Prob(Omnibus):                  0.000   Jarque-Bera (JB):               18.591\n",
      "Skew:                           0.447   Prob(JB):                     9.18e-05\n",
      "Kurtosis:                       2.746   Cond. No.                     1.74e+04\n",
      "==============================================================================\n",
      "\n",
      "Notes:\n",
      "[1] Standard Errors assume that the covariance matrix of the errors is correctly specified.\n",
      "[2] The condition number is large, 1.74e+04. This might indicate that there are\n",
      "strong multicollinearity or other numerical problems.\n"
     ]
    }
   ],
   "source": [
    "df_filtered = df_filtered.copy()\n",
    "\n",
    "#create interaction terms:\n",
    "df_filtered['sex_grade92'] = df_filtered['sex'] * df_filtered['grade92']\n",
    "df_filtered['age_marital'] = df_filtered['age'] * df_filtered['marital']\n",
    "\n",
    "#define predictors for option 2\n",
    "X4_option2 = df_filtered[['age', 'grade92', 'sex', 'marital', 'sex_grade92', 'age_marital']]\n",
    "y = df_filtered['earnings_per_hour']\n",
    "\n",
    "#add constant for the intercept\n",
    "X4_option2 = sm.add_constant(X4_option2)\n",
    "\n",
    "#fit\n",
    "model4_option2 = sm.OLS(y, X4_option2).fit()\n",
    "\n",
    "print(model4_option2.summary())\n"
   ]
  },
  {
   "cell_type": "code",
   "execution_count": null,
   "id": "bc8ed20f-5cbc-41c9-9ef7-016bdc9f60bc",
   "metadata": {},
   "outputs": [],
   "source": []
  }
 ],
 "metadata": {
  "kernelspec": {
   "display_name": "Python [conda env:base] *",
   "language": "python",
   "name": "conda-base-py"
  },
  "language_info": {
   "codemirror_mode": {
    "name": "ipython",
    "version": 3
   },
   "file_extension": ".py",
   "mimetype": "text/x-python",
   "name": "python",
   "nbconvert_exporter": "python",
   "pygments_lexer": "ipython3",
   "version": "3.12.7"
  }
 },
 "nbformat": 4,
 "nbformat_minor": 5
}
